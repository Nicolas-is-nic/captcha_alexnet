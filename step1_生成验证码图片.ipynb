{
 "cells": [
  {
   "cell_type": "code",
   "execution_count": 1,
   "metadata": {},
   "outputs": [],
   "source": [
    "from captcha.image import ImageCaptcha\n",
    "import numpy as np\n",
    "from PIL import Image\n",
    "import random\n",
    "import sys\n",
    "import os"
   ]
  },
  {
   "cell_type": "code",
   "execution_count": 2,
   "metadata": {},
   "outputs": [],
   "source": [
    "number = ['1', '2', '3', '4', '5', '6', '7', '8', '9']\n",
    "# alphabet = ['a', 'b', 'c', 'd', 'e', 'f', 'g', 'h', 'i', 'j', 'k', 'l', 'm', 'n', 'o', 'p', 'q', 'r', 's', 't', 'u', 'v', 'w', 'x', 'y', 'z']\n",
    "# ALPHABET = ['A', 'B', 'C', 'D', 'E', 'F', 'G', 'H', 'I', 'J', 'K', 'L', 'M', 'N', 'O', 'P', 'Q', 'R', 'S', 'T', 'U', 'V', 'W', 'X', 'Y', 'Z']\n",
    "\n",
    "def random_captcha_text(char_set = number, captcha_size = 4):\n",
    "    #这个函数用来生成验证码的文本，验证码的长度为4\n",
    "    captcha_text = []\n",
    "    for i in range(captcha_size):\n",
    "        c = random.choice(char_set)\n",
    "        #每次随机选一个数\n",
    "        captcha_text.append(c)\n",
    "        #循环四次以后，得到了4位数的验证码文本\n",
    "    return captcha_text \n",
    "\n",
    "def gen_captcha_text_and_image(path):\n",
    "    image = ImageCaptcha()\n",
    "    captcha_text = random_captcha_text()\n",
    "    captcha_text = ''.join(captcha_text)\n",
    "    # 获得随机生成的验证码文本，并转成字符串\n",
    "    captcha = image.generate(captcha_text)\n",
    "    #生成验证码图片\n",
    "    image.write(captcha_text, path + captcha_text + '.jpg') #写入到文件\n",
    "    "
   ]
  },
  {
   "cell_type": "code",
   "execution_count": 3,
   "metadata": {},
   "outputs": [
    {
     "name": "stdout",
     "output_type": "stream",
     "text": [
      ">> Creating image 10000/10000\n",
      "生成完毕\n"
     ]
    }
   ],
   "source": [
    "num = 10000\n",
    "path = 'captcha/images/'\n",
    "\n",
    "if not os.path.exists(path):\n",
    "    os.makedirs(path)\n",
    "for i in range(num):\n",
    "    gen_captcha_text_and_image(path)\n",
    "    sys.stdout.write('\\r>> Creating image %d/%d' % (i+1, num))\n",
    "    sys.stdout.flush()\n",
    "sys.stdout.write('\\n')\n",
    "sys.stdout.flush()\n",
    "\n",
    "print('生成完毕')"
   ]
  },
  {
   "cell_type": "code",
   "execution_count": null,
   "metadata": {},
   "outputs": [],
   "source": []
  }
 ],
 "metadata": {
  "kernelspec": {
   "display_name": "Python 3",
   "language": "python",
   "name": "python3"
  },
  "language_info": {
   "codemirror_mode": {
    "name": "ipython",
    "version": 3
   },
   "file_extension": ".py",
   "mimetype": "text/x-python",
   "name": "python",
   "nbconvert_exporter": "python",
   "pygments_lexer": "ipython3",
   "version": "3.7.2"
  }
 },
 "nbformat": 4,
 "nbformat_minor": 2
}
