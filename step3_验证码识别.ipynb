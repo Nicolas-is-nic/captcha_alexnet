{
 "cells": [
  {
   "cell_type": "code",
   "execution_count": null,
   "metadata": {},
   "outputs": [],
   "source": [
    "import os\n",
    "import tensorflow as tf\n",
    "from PIL import Image\n",
    "from nets import nets_factory\n",
    "import numpy as np"
   ]
  },
  {
   "cell_type": "code",
   "execution_count": null,
   "metadata": {},
   "outputs": [],
   "source": [
    "#不同字符的数量，只有数字所以为10\n",
    "CHAR_SET_LEN = 10\n",
    "#图片宽度高度\n",
    "IMAGE_HEIGHT, IMAGE_WIDTH = 60, 160\n",
    "#批次大小\n",
    "BATCH_SIZE = 25\n",
    "#TFrecord 文件存放路径\n",
    "TFRECORD_FILE = '/Users/yangming/Downloads/jupyter_notebook/captcha_code/captcha/train.tfrecords'\n",
    "\n",
    "#placeholder\n",
    "#x为图片数据文件，y为label，因为是多任务，所以用了4个label\n",
    "#alexnet 要求传入的大小为224*224\n",
    "x = tf.placeholder(tf.float32, [None, 224, 224])\n",
    "y0 = tf.placeholder(tf.float32, [None])\n",
    "y1 = tf.placeholder(tf.float32, [None])\n",
    "y2 = tf.placeholder(tf.float32, [None])\n",
    "y3 = tf.placeholder(tf.float32, [None])\n",
    "\n",
    "#定义学习率\n",
    "lr = tf.Variable(0.003, dtype=tf.float32)\n",
    "\n",
    "#从tfrecord读取数据\n",
    "#传入的filename实际上就是TFrecord 文件存放路径\n",
    "def read_and_decode(filename):\n",
    "    #根据文件名生成一个队列\n",
    "    filename_queue = tf.train.string_input_producer([filename])\n",
    "    reader = tf.TFRecordReader()\n",
    "    #返回文件名和文件\n",
    "    _, serialized_example = reader.read(filename_queue)\n",
    "    features = tf.paser_single_example(serialized_example,\n",
    "                                                       features={\n",
    "                                                           'image' : tf.FixedLenFeature([],tf.string),\n",
    "                                                           'label0' : tf.FixedLenFeature([],tf.int64),\n",
    "                                                           'label1' : tf.FixedLenFeature([],tf.int64),\n",
    "                                                           'label2' : tf.FixedLenFeature([],tf.int64),\n",
    "                                                           'label3' : tf.FixedLenFeature([],tf.int64),\n",
    "                                                       })\n",
    "    #获取图片数据\n",
    "    image = tf.decode_raw(features['image'], tf.uint8)\n",
    "    #tf.train.shuffle_batch必须确定shape\n",
    "    image = tf.reshape(image, [224, 224])\n",
    "    #图片预处理\n",
    "    #cast为类型转换，不过为啥要除以255？\n",
    "    image = tf.cast(image, tf.float32) / 255.0\n",
    "    image = tf.subtract(image, 0.5)\n",
    "    image = tf.multiply(image, 2.0)\n",
    "    #获取label\n",
    "    label0 = tf.cast(features['label0'], tf.int32)\n",
    "    label1 = tf.cast(features['label1'], tf.int32)\n",
    "    label2 = tf.cast(features['label2'], tf.int32)\n",
    "    label3 = tf.cast(features['label3'], tf.int32)\n",
    "    \n",
    "    return image, label0, label1, label2, label3\n",
    "    "
   ]
  },
  {
   "cell_type": "code",
   "execution_count": null,
   "metadata": {},
   "outputs": [],
   "source": []
  }
 ],
 "metadata": {
  "kernelspec": {
   "display_name": "Python 3",
   "language": "python",
   "name": "python3"
  },
  "language_info": {
   "codemirror_mode": {
    "name": "ipython",
    "version": 3
   },
   "file_extension": ".py",
   "mimetype": "text/x-python",
   "name": "python",
   "nbconvert_exporter": "python",
   "pygments_lexer": "ipython3",
   "version": "3.7.0"
  }
 },
 "nbformat": 4,
 "nbformat_minor": 2
}
